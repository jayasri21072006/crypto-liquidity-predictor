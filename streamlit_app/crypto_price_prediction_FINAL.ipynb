{
 "cells": [
  {
   "cell_type": "markdown",
   "id": "15894a9d",
   "metadata": {},
   "source": [
    "# 📊 Cryptocurrency Liquidity Prediction using Machine Learning\n",
    "This project analyzes historical cryptocurrency data to predict liquidity and market stability. We perform preprocessing, exploratory data analysis (EDA), feature engineering, model training, and evaluation."
   ]
  },
  {
   "cell_type": "code",
   "execution_count": null,
   "id": "3f9c7643",
   "metadata": {},
   "outputs": [],
   "source": [
    "import pandas as pd\n",
    "import numpy as np\n",
    "import matplotlib.pyplot as plt\n",
    "import seaborn as sns\n",
    "from sklearn.model_selection import train_test_split\n",
    "from sklearn.preprocessing import StandardScaler\n",
    "from sklearn.ensemble import RandomForestRegressor\n",
    "from sklearn.linear_model import LinearRegression\n",
    "from sklearn.metrics import mean_squared_error, mean_absolute_error, r2_score\n",
    "import warnings\n",
    "warnings.filterwarnings('ignore')"
   ]
  },
  {
   "cell_type": "code",
   "execution_count": null,
   "id": "96ecb90f",
   "metadata": {},
   "outputs": [],
   "source": [
    "# Load data\n",
    "df = pd.read_csv(\"/content/coin_gecko_2022-03-17.csv\")\n",
    "df.head()"
   ]
  },
  {
   "cell_type": "code",
   "execution_count": null,
   "id": "90f6c3e5",
   "metadata": {},
   "outputs": [],
   "source": [
    "# Basic Info\n",
    "df.info()\n",
    "df.describe()"
   ]
  },
  {
   "cell_type": "code",
   "execution_count": null,
   "id": "7241acad",
   "metadata": {},
   "outputs": [],
   "source": [
    "# Drop nulls\n",
    "df.dropna(inplace=True)\n",
    "df.reset_index(drop=True, inplace=True)"
   ]
  },
  {
   "cell_type": "code",
   "execution_count": null,
   "id": "d146b902",
   "metadata": {},
   "outputs": [],
   "source": [
    "df['date'] = pd.to_datetime(df['date'])"
   ]
  },
  {
   "cell_type": "code",
   "execution_count": null,
   "id": "d28810ea",
   "metadata": {},
   "outputs": [],
   "source": [
    "num_features = ['price', '1h', '24h', '7d', '24h_volume', 'mkt_cap']\n",
    "df[num_features].hist(figsize=(12, 8), bins=30)\n",
    "plt.tight_layout()\n",
    "plt.show()\n",
    "\n",
    "sns.heatmap(df[num_features].corr(), annot=True, cmap='coolwarm')\n",
    "plt.title(\"Correlation Matrix\")\n",
    "plt.show()"
   ]
  },
  {
   "cell_type": "code",
   "execution_count": null,
   "id": "bd3c850c",
   "metadata": {},
   "outputs": [],
   "source": [
    "# Sort by market cap\n",
    "df_sorted = df.sort_values(by='mkt_cap', ascending=False).reset_index(drop=True)\n",
    "\n",
    "# Moving averages\n",
    "df['ma_price'] = df_sorted['price'].rolling(window=10, min_periods=1).mean()\n",
    "df['ma_volume'] = df_sorted['24h_volume'].rolling(window=10, min_periods=1).mean()\n",
    "\n",
    "# Liquidity ratio\n",
    "df['liquidity_ratio'] = df['24h_volume'] / df['mkt_cap']"
   ]
  },
  {
   "cell_type": "code",
   "execution_count": null,
   "id": "b13e41d5",
   "metadata": {},
   "outputs": [],
   "source": [
    "features = ['price', '1h', '24h', '7d', 'ma_price', 'ma_volume']\n",
    "target = 'liquidity_ratio'\n",
    "\n",
    "X = df[features]\n",
    "y = df[target]\n",
    "\n",
    "scaler = StandardScaler()\n",
    "X_scaled = scaler.fit_transform(X)\n",
    "\n",
    "X_train, X_test, y_train, y_test = train_test_split(X_scaled, y, test_size=0.2, random_state=42)"
   ]
  },
  {
   "cell_type": "code",
   "execution_count": null,
   "id": "7277affb",
   "metadata": {},
   "outputs": [],
   "source": [
    "# Random Forest\n",
    "rf = RandomForestRegressor(random_state=42)\n",
    "rf.fit(X_train, y_train)\n",
    "rf_preds = rf.predict(X_test)\n",
    "\n",
    "# Linear Regression\n",
    "lr = LinearRegression()\n",
    "lr.fit(X_train, y_train)\n",
    "lr_preds = lr.predict(X_test)"
   ]
  },
  {
   "cell_type": "code",
   "execution_count": null,
   "id": "b5fcb9bd",
   "metadata": {},
   "outputs": [],
   "source": [
    "def evaluate(y_test, preds, name):\n",
    "    print(f\"{name} Results\")\n",
    "    print(\"RMSE:\", mean_squared_error(y_test, preds, squared=False))\n",
    "    print(\"MAE:\", mean_absolute_error(y_test, preds))\n",
    "    print(\"R2 Score:\", r2_score(y_test, preds))\n",
    "    print(\"-\"*30)\n",
    "\n",
    "evaluate(y_test, rf_preds, \"Random Forest\")\n",
    "evaluate(y_test, lr_preds, \"Linear Regression\")"
   ]
  },
  {
   "cell_type": "markdown",
   "id": "4b38717f",
   "metadata": {},
   "source": [
    "## ✅ Project Completed\n",
    "This notebook covered all major lifecycle stages of a Machine Learning project:\n",
    "- Data Cleaning\n",
    "- Exploratory Data Analysis\n",
    "- Feature Engineering\n",
    "- Model Building and Evaluation\n",
    "\n",
    "You can now integrate this into Streamlit or deploy it as a dashboard for local use."
   ]
  }
 ],
 "metadata": {},
 "nbformat": 4,
 "nbformat_minor": 5
}
