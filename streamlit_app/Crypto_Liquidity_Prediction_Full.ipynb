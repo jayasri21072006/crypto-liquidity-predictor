{
 "cells": [
  {
   "cell_type": "markdown",
   "id": "a40a7588",
   "metadata": {},
   "source": [
    "\n",
    "# Cryptocurrency Liquidity Prediction Project 🚀\n",
    "\n",
    "This project is built to predict **cryptocurrency liquidity** using historical market data.  \n",
    "We'll go through each stage of a typical machine learning pipeline:\n",
    "\n",
    "1. 🧠 Understanding the Problem Statement  \n",
    "2. 📥 Data Collection  \n",
    "3. 🧹 Data Cleaning  \n",
    "4. 📊 Exploratory Data Analysis (EDA)  \n",
    "5. 🔧 Feature Engineering  \n",
    "6. 🤖 Model Training & Evaluation  \n",
    "7. 🧪 Model Comparison  \n",
    "8. 🚀 Final Inference  \n"
   ]
  },
  {
   "cell_type": "markdown",
   "id": "a9ae0b8c",
   "metadata": {},
   "source": [
    "\n",
    "## 🧠 1. Understanding the Problem\n",
    "\n",
    "Cryptocurrency markets are volatile. This project helps detect **liquidity crises** early by analyzing features such as:\n",
    "- Trading volume\n",
    "- Price fluctuations\n",
    "- Market capitalization\n",
    "\n",
    "We aim to **predict liquidity** using machine learning models.\n"
   ]
  },
  {
   "cell_type": "code",
   "execution_count": null,
   "id": "a41d273e",
   "metadata": {},
   "outputs": [],
   "source": [
    "\n",
    "import pandas as pd\n",
    "\n",
    "df = pd.read_csv(\"/content/coin_gecko_2022-03-17.csv\")\n",
    "df.head()\n"
   ]
  },
  {
   "cell_type": "code",
   "execution_count": null,
   "id": "db66a7ca",
   "metadata": {},
   "outputs": [],
   "source": [
    "\n",
    "df.info()\n"
   ]
  },
  {
   "cell_type": "markdown",
   "id": "aaa8b994",
   "metadata": {},
   "source": [
    "\n",
    "## 🧹 2. Data Cleaning\n"
   ]
  },
  {
   "cell_type": "code",
   "execution_count": null,
   "id": "ff2c630d",
   "metadata": {},
   "outputs": [],
   "source": [
    "\n",
    "# Drop rows with missing values\n",
    "df.dropna(inplace=True)\n",
    "df.reset_index(drop=True, inplace=True)\n"
   ]
  },
  {
   "cell_type": "code",
   "execution_count": null,
   "id": "14839470",
   "metadata": {},
   "outputs": [],
   "source": [
    "\n",
    "df['date'] = pd.to_datetime(df['date'])\n",
    "df.dtypes\n"
   ]
  },
  {
   "cell_type": "markdown",
   "id": "c9cad51e",
   "metadata": {},
   "source": [
    "\n",
    "## 📊 3. Exploratory Data Analysis\n"
   ]
  },
  {
   "cell_type": "code",
   "execution_count": null,
   "id": "6c363ecf",
   "metadata": {},
   "outputs": [],
   "source": [
    "\n",
    "import matplotlib.pyplot as plt\n",
    "import seaborn as sns\n",
    "\n",
    "plt.figure(figsize=(12, 6))\n",
    "sns.histplot(df['price'], bins=30, kde=True)\n",
    "plt.title(\"Distribution of Crypto Prices\")\n",
    "plt.show()\n"
   ]
  },
  {
   "cell_type": "markdown",
   "id": "9a09d1cb",
   "metadata": {},
   "source": [
    "\n",
    "## 🔧 4. Feature Engineering\n"
   ]
  },
  {
   "cell_type": "code",
   "execution_count": null,
   "id": "76d7196a",
   "metadata": {},
   "outputs": [],
   "source": [
    "\n",
    "df = df.sort_values(by='mkt_cap', ascending=False).reset_index(drop=True)\n",
    "df['ma_price'] = df['price'].rolling(window=10, min_periods=1).mean()\n",
    "df['ma_volume'] = df['24h_volume'].rolling(window=10, min_periods=1).mean()\n",
    "df['liquidity_ratio'] = df['24h_volume'] / df['mkt_cap']\n"
   ]
  },
  {
   "cell_type": "markdown",
   "id": "8b889fd0",
   "metadata": {},
   "source": [
    "\n",
    "## 🤖 5. Model Training and Evaluation\n"
   ]
  },
  {
   "cell_type": "code",
   "execution_count": null,
   "id": "df9e4f11",
   "metadata": {},
   "outputs": [],
   "source": [
    "\n",
    "from sklearn.model_selection import train_test_split\n",
    "from sklearn.ensemble import RandomForestRegressor\n",
    "from sklearn.linear_model import LinearRegression\n",
    "from sklearn.metrics import mean_squared_error, mean_absolute_error, r2_score\n",
    "\n",
    "features = ['price', 'ma_price', 'ma_volume', 'liquidity_ratio']\n",
    "target = '24h_volume'\n",
    "\n",
    "X = df[features]\n",
    "y = df[target]\n",
    "\n",
    "X_train, X_test, y_train, y_test = train_test_split(X, y, test_size=0.2, random_state=42)\n"
   ]
  },
  {
   "cell_type": "code",
   "execution_count": null,
   "id": "9c2214e0",
   "metadata": {},
   "outputs": [],
   "source": [
    "\n",
    "rf = RandomForestRegressor()\n",
    "rf.fit(X_train, y_train)\n",
    "y_pred_rf = rf.predict(X_test)\n"
   ]
  },
  {
   "cell_type": "code",
   "execution_count": null,
   "id": "3af99e39",
   "metadata": {},
   "outputs": [],
   "source": [
    "\n",
    "lr = LinearRegression()\n",
    "lr.fit(X_train, y_train)\n",
    "y_pred_lr = lr.predict(X_test)\n"
   ]
  },
  {
   "cell_type": "code",
   "execution_count": null,
   "id": "a24f46c7",
   "metadata": {},
   "outputs": [],
   "source": [
    "\n",
    "def evaluate_model(y_true, y_pred, model_name):\n",
    "    print(f\"Model: {model_name}\")\n",
    "    print(\"MAE:\", mean_absolute_error(y_true, y_pred))\n",
    "    print(\"RMSE:\", mean_squared_error(y_true, y_pred, squared=False))\n",
    "    print(\"R²:\", r2_score(y_true, y_pred))\n",
    "    print(\"-\" * 30)\n",
    "\n",
    "evaluate_model(y_test, y_pred_rf, \"Random Forest\")\n",
    "evaluate_model(y_test, y_pred_lr, \"Linear Regression\")\n"
   ]
  },
  {
   "cell_type": "markdown",
   "id": "62e803e3",
   "metadata": {},
   "source": [
    "\n",
    "## ✅ Conclusion\n",
    "\n",
    "- We cleaned and analyzed the dataset.\n",
    "- Performed feature engineering to extract meaningful indicators.\n",
    "- Trained two models and compared their performance.\n",
    "- You can deploy this using Streamlit or export predictions.\n",
    "\n",
    "> ✅ Random Forest gave better results than Linear Regression for this dataset.\n"
   ]
  }
 ],
 "metadata": {},
 "nbformat": 4,
 "nbformat_minor": 5
}
